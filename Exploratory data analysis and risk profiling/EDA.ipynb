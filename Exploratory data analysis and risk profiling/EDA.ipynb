{
 "cells": [
  {
   "cell_type": "raw",
   "id": "363732b3-5b96-4eb5-a519-38774270ed7e",
   "metadata": {},
   "source": [
    "EDA on Geldium’s customer dataset"
   ]
  },
  {
   "cell_type": "code",
   "execution_count": 2,
   "id": "a7ea9be2-dd8e-437d-bb0c-e77cab5058fd",
   "metadata": {},
   "outputs": [],
   "source": [
    "import pandas as pd\n",
    "import numpy as np"
   ]
  },
  {
   "cell_type": "code",
   "execution_count": 3,
   "id": "b5e48cc9-2cbc-4f6f-a924-5817993b1dbe",
   "metadata": {},
   "outputs": [],
   "source": [
    "data = pd.read_csv(\"Delinquency_prediction_dataset.csv\")"
   ]
  },
  {
   "cell_type": "raw",
   "id": "aa35794a-29ec-4048-9289-e72ed8a2e583",
   "metadata": {},
   "source": [
    "DISPLAYING FIRST 5 DATA"
   ]
  },
  {
   "cell_type": "code",
   "execution_count": 4,
   "id": "efb4e183-54f0-4f56-8683-5daafdeac662",
   "metadata": {},
   "outputs": [
    {
     "data": {
      "text/html": [
       "<div>\n",
       "<style scoped>\n",
       "    .dataframe tbody tr th:only-of-type {\n",
       "        vertical-align: middle;\n",
       "    }\n",
       "\n",
       "    .dataframe tbody tr th {\n",
       "        vertical-align: top;\n",
       "    }\n",
       "\n",
       "    .dataframe thead th {\n",
       "        text-align: right;\n",
       "    }\n",
       "</style>\n",
       "<table border=\"1\" class=\"dataframe\">\n",
       "  <thead>\n",
       "    <tr style=\"text-align: right;\">\n",
       "      <th></th>\n",
       "      <th>Customer_ID</th>\n",
       "      <th>Age</th>\n",
       "      <th>Income</th>\n",
       "      <th>Credit_Score</th>\n",
       "      <th>Credit_Utilization</th>\n",
       "      <th>Missed_Payments</th>\n",
       "      <th>Delinquent_Account</th>\n",
       "      <th>Loan_Balance</th>\n",
       "      <th>Debt_to_Income_Ratio</th>\n",
       "      <th>Employment_Status</th>\n",
       "      <th>Account_Tenure</th>\n",
       "      <th>Credit_Card_Type</th>\n",
       "      <th>Location</th>\n",
       "      <th>Month_1</th>\n",
       "      <th>Month_2</th>\n",
       "      <th>Month_3</th>\n",
       "      <th>Month_4</th>\n",
       "      <th>Month_5</th>\n",
       "      <th>Month_6</th>\n",
       "    </tr>\n",
       "  </thead>\n",
       "  <tbody>\n",
       "    <tr>\n",
       "      <th>0</th>\n",
       "      <td>CUST0001</td>\n",
       "      <td>56</td>\n",
       "      <td>165580.0</td>\n",
       "      <td>398.0</td>\n",
       "      <td>0.390502</td>\n",
       "      <td>3</td>\n",
       "      <td>0</td>\n",
       "      <td>16310.0</td>\n",
       "      <td>0.317396</td>\n",
       "      <td>EMP</td>\n",
       "      <td>18</td>\n",
       "      <td>Student</td>\n",
       "      <td>Los Angeles</td>\n",
       "      <td>Late</td>\n",
       "      <td>Late</td>\n",
       "      <td>Missed</td>\n",
       "      <td>Late</td>\n",
       "      <td>Missed</td>\n",
       "      <td>Late</td>\n",
       "    </tr>\n",
       "    <tr>\n",
       "      <th>1</th>\n",
       "      <td>CUST0002</td>\n",
       "      <td>69</td>\n",
       "      <td>100999.0</td>\n",
       "      <td>493.0</td>\n",
       "      <td>0.312444</td>\n",
       "      <td>6</td>\n",
       "      <td>1</td>\n",
       "      <td>17401.0</td>\n",
       "      <td>0.196093</td>\n",
       "      <td>Self-employed</td>\n",
       "      <td>0</td>\n",
       "      <td>Standard</td>\n",
       "      <td>Phoenix</td>\n",
       "      <td>Missed</td>\n",
       "      <td>Missed</td>\n",
       "      <td>Late</td>\n",
       "      <td>Missed</td>\n",
       "      <td>On-time</td>\n",
       "      <td>On-time</td>\n",
       "    </tr>\n",
       "    <tr>\n",
       "      <th>2</th>\n",
       "      <td>CUST0003</td>\n",
       "      <td>46</td>\n",
       "      <td>188416.0</td>\n",
       "      <td>500.0</td>\n",
       "      <td>0.359930</td>\n",
       "      <td>0</td>\n",
       "      <td>0</td>\n",
       "      <td>13761.0</td>\n",
       "      <td>0.301655</td>\n",
       "      <td>Self-employed</td>\n",
       "      <td>1</td>\n",
       "      <td>Platinum</td>\n",
       "      <td>Chicago</td>\n",
       "      <td>Missed</td>\n",
       "      <td>Late</td>\n",
       "      <td>Late</td>\n",
       "      <td>On-time</td>\n",
       "      <td>Missed</td>\n",
       "      <td>Late</td>\n",
       "    </tr>\n",
       "    <tr>\n",
       "      <th>3</th>\n",
       "      <td>CUST0004</td>\n",
       "      <td>32</td>\n",
       "      <td>101672.0</td>\n",
       "      <td>413.0</td>\n",
       "      <td>0.371400</td>\n",
       "      <td>3</td>\n",
       "      <td>0</td>\n",
       "      <td>88778.0</td>\n",
       "      <td>0.264794</td>\n",
       "      <td>Unemployed</td>\n",
       "      <td>15</td>\n",
       "      <td>Platinum</td>\n",
       "      <td>Phoenix</td>\n",
       "      <td>Late</td>\n",
       "      <td>Missed</td>\n",
       "      <td>Late</td>\n",
       "      <td>Missed</td>\n",
       "      <td>Late</td>\n",
       "      <td>Late</td>\n",
       "    </tr>\n",
       "    <tr>\n",
       "      <th>4</th>\n",
       "      <td>CUST0005</td>\n",
       "      <td>60</td>\n",
       "      <td>38524.0</td>\n",
       "      <td>487.0</td>\n",
       "      <td>0.234716</td>\n",
       "      <td>2</td>\n",
       "      <td>0</td>\n",
       "      <td>13316.0</td>\n",
       "      <td>0.510583</td>\n",
       "      <td>Self-employed</td>\n",
       "      <td>11</td>\n",
       "      <td>Standard</td>\n",
       "      <td>Phoenix</td>\n",
       "      <td>Missed</td>\n",
       "      <td>On-time</td>\n",
       "      <td>Missed</td>\n",
       "      <td>Late</td>\n",
       "      <td>Late</td>\n",
       "      <td>Late</td>\n",
       "    </tr>\n",
       "  </tbody>\n",
       "</table>\n",
       "</div>"
      ],
      "text/plain": [
       "  Customer_ID  Age    Income  Credit_Score  Credit_Utilization  \\\n",
       "0    CUST0001   56  165580.0         398.0            0.390502   \n",
       "1    CUST0002   69  100999.0         493.0            0.312444   \n",
       "2    CUST0003   46  188416.0         500.0            0.359930   \n",
       "3    CUST0004   32  101672.0         413.0            0.371400   \n",
       "4    CUST0005   60   38524.0         487.0            0.234716   \n",
       "\n",
       "   Missed_Payments  Delinquent_Account  Loan_Balance  Debt_to_Income_Ratio  \\\n",
       "0                3                   0       16310.0              0.317396   \n",
       "1                6                   1       17401.0              0.196093   \n",
       "2                0                   0       13761.0              0.301655   \n",
       "3                3                   0       88778.0              0.264794   \n",
       "4                2                   0       13316.0              0.510583   \n",
       "\n",
       "  Employment_Status  Account_Tenure Credit_Card_Type     Location Month_1  \\\n",
       "0               EMP              18          Student  Los Angeles    Late   \n",
       "1     Self-employed               0         Standard      Phoenix  Missed   \n",
       "2     Self-employed               1         Platinum      Chicago  Missed   \n",
       "3        Unemployed              15         Platinum      Phoenix    Late   \n",
       "4     Self-employed              11         Standard      Phoenix  Missed   \n",
       "\n",
       "   Month_2 Month_3  Month_4  Month_5  Month_6  \n",
       "0     Late  Missed     Late   Missed     Late  \n",
       "1   Missed    Late   Missed  On-time  On-time  \n",
       "2     Late    Late  On-time   Missed     Late  \n",
       "3   Missed    Late   Missed     Late     Late  \n",
       "4  On-time  Missed     Late     Late     Late  "
      ]
     },
     "execution_count": 4,
     "metadata": {},
     "output_type": "execute_result"
    }
   ],
   "source": [
    "data.head()"
   ]
  },
  {
   "cell_type": "raw",
   "id": "8f1ec9bf-ea32-41ab-b7bd-e0c957a688fa",
   "metadata": {},
   "source": [
    "DISPLAYING TOTAL NUMBER OF RECORDS"
   ]
  },
  {
   "cell_type": "code",
   "execution_count": 8,
   "id": "8b0f8430-01a6-48ba-bec2-e2772877e598",
   "metadata": {},
   "outputs": [
    {
     "name": "stdout",
     "output_type": "stream",
     "text": [
      "Number of records: 500\n"
     ]
    }
   ],
   "source": [
    "print(\"Number of records:\",len(data))"
   ]
  },
  {
   "cell_type": "raw",
   "id": "8961f279-6870-4e84-99a4-b62a977065e6",
   "metadata": {},
   "source": [
    "CHECKING FOR MISSING VALUE PER COLUMN"
   ]
  },
  {
   "cell_type": "code",
   "execution_count": 10,
   "id": "b292878e-0087-41da-86c6-c2e8af8f6df0",
   "metadata": {},
   "outputs": [
    {
     "name": "stdout",
     "output_type": "stream",
     "text": [
      "Customer_ID              0\n",
      "Age                      0\n",
      "Income                  39\n",
      "Credit_Score             2\n",
      "Credit_Utilization       0\n",
      "Missed_Payments          0\n",
      "Delinquent_Account       0\n",
      "Loan_Balance            29\n",
      "Debt_to_Income_Ratio     0\n",
      "Employment_Status        0\n",
      "Account_Tenure           0\n",
      "Credit_Card_Type         0\n",
      "Location                 0\n",
      "Month_1                  0\n",
      "Month_2                  0\n",
      "Month_3                  0\n",
      "Month_4                  0\n",
      "Month_5                  0\n",
      "Month_6                  0\n",
      "dtype: int64\n"
     ]
    }
   ],
   "source": [
    "print(data.isnull().sum())"
   ]
  },
  {
   "cell_type": "raw",
   "id": "a0653a61-b956-47b1-93e8-1dcb2822dd42",
   "metadata": {},
   "source": [
    "We'll use:\n",
    "# - Mean imputation for 'Income' and 'Credit_Score' as they appear well-balanced.\n",
    "# - Median imputation for 'Loan_Balance' to be more robust to potential skewness/outliers."
   ]
  },
  {
   "cell_type": "raw",
   "id": "10f32ae6-7094-46fe-bc4d-8d37946bd894",
   "metadata": {},
   "source": [
    "Calculate the mean for 'Income','Credit_Score' and median for 'Loan_Balance'"
   ]
  },
  {
   "cell_type": "code",
   "execution_count": 16,
   "id": "8fe0bbef-2b30-490e-8892-f391e6fb748d",
   "metadata": {},
   "outputs": [],
   "source": [
    "mean_income = data['Income'].mean()\n",
    "mean_credit_score = data['Credit_Score'].mean()\n",
    "median_loan_balance = data['Loan_Balance'].median()"
   ]
  },
  {
   "cell_type": "raw",
   "id": "cb11905c-0813-4d60-8830-889ebaff7a0f",
   "metadata": {},
   "source": [
    "Fill missing values"
   ]
  },
  {
   "cell_type": "code",
   "execution_count": 18,
   "id": "55bd3478-d2f5-40f5-86d5-34f97e818738",
   "metadata": {},
   "outputs": [],
   "source": [
    "data['Income'] = data['Income'].fillna(mean_income)\n",
    "data['Credit_Score'] = data['Credit_Score'].fillna(mean_credit_score)\n",
    "data['Loan_Balance'] = data['Loan_Balance'].fillna(median_loan_balance)"
   ]
  },
  {
   "cell_type": "raw",
   "id": "bb803634-c6ea-43ca-b1a8-b350ff21beb4",
   "metadata": {},
   "source": [
    "RECHECKING"
   ]
  },
  {
   "cell_type": "code",
   "execution_count": 20,
   "id": "96aedaaa-5cba-442f-ad08-ff84f0628212",
   "metadata": {},
   "outputs": [
    {
     "name": "stdout",
     "output_type": "stream",
     "text": [
      "Customer_ID             0\n",
      "Age                     0\n",
      "Income                  0\n",
      "Credit_Score            0\n",
      "Credit_Utilization      0\n",
      "Missed_Payments         0\n",
      "Delinquent_Account      0\n",
      "Loan_Balance            0\n",
      "Debt_to_Income_Ratio    0\n",
      "Employment_Status       0\n",
      "Account_Tenure          0\n",
      "Credit_Card_Type        0\n",
      "Location                0\n",
      "Month_1                 0\n",
      "Month_2                 0\n",
      "Month_3                 0\n",
      "Month_4                 0\n",
      "Month_5                 0\n",
      "Month_6                 0\n",
      "dtype: int64\n"
     ]
    }
   ],
   "source": [
    "print(data.isnull().sum())"
   ]
  },
  {
   "cell_type": "code",
   "execution_count": 23,
   "id": "30684cac-0356-4c7d-a59b-67abbe36e9a6",
   "metadata": {},
   "outputs": [],
   "source": [
    "# Select only numerical columns for correlation analysis\n",
    "numerical_cols = data.select_dtypes(include=['number']).columns.tolist()\n",
    "\n",
    "# Calculate the correlation matrix\n",
    "correlation_matrix = data[numerical_cols].corr()"
   ]
  },
  {
   "cell_type": "code",
   "execution_count": 24,
   "id": "71363355-349b-4faa-a8e8-4798b73a8603",
   "metadata": {},
   "outputs": [
    {
     "name": "stdout",
     "output_type": "stream",
     "text": [
      "                           Age    Income  Credit_Score  Credit_Utilization  \\\n",
      "Age                   1.000000  0.006210     -0.033909            0.015811   \n",
      "Income                0.006210  1.000000      0.068457            0.039046   \n",
      "Credit_Score         -0.033909  0.068457      1.000000           -0.021498   \n",
      "Credit_Utilization    0.015811  0.039046     -0.021498            1.000000   \n",
      "Missed_Payments      -0.023511 -0.004524     -0.014802            0.019666   \n",
      "Delinquent_Account    0.022508  0.043897      0.034820            0.034224   \n",
      "Loan_Balance         -0.049328 -0.047793     -0.013941           -0.051570   \n",
      "Debt_to_Income_Ratio -0.007883 -0.061569     -0.005362           -0.064661   \n",
      "Account_Tenure        0.016942 -0.004735     -0.036875            0.065264   \n",
      "\n",
      "                      Missed_Payments  Delinquent_Account  Loan_Balance  \\\n",
      "Age                         -0.023511            0.022508     -0.049328   \n",
      "Income                      -0.004524            0.043897     -0.047793   \n",
      "Credit_Score                -0.014802            0.034820     -0.013941   \n",
      "Credit_Utilization           0.019666            0.034224     -0.051570   \n",
      "Missed_Payments              1.000000           -0.026478     -0.015141   \n",
      "Delinquent_Account          -0.026478            1.000000     -0.005438   \n",
      "Loan_Balance                -0.015141           -0.005438      1.000000   \n",
      "Debt_to_Income_Ratio         0.000148            0.034386      0.058261   \n",
      "Account_Tenure              -0.097345           -0.039829      0.052733   \n",
      "\n",
      "                      Debt_to_Income_Ratio  Account_Tenure  \n",
      "Age                              -0.007883        0.016942  \n",
      "Income                           -0.061569       -0.004735  \n",
      "Credit_Score                     -0.005362       -0.036875  \n",
      "Credit_Utilization               -0.064661        0.065264  \n",
      "Missed_Payments                   0.000148       -0.097345  \n",
      "Delinquent_Account                0.034386       -0.039829  \n",
      "Loan_Balance                      0.058261        0.052733  \n",
      "Debt_to_Income_Ratio              1.000000        0.026144  \n",
      "Account_Tenure                    0.026144        1.000000  \n"
     ]
    }
   ],
   "source": [
    "print(correlation_matrix)"
   ]
  },
  {
   "cell_type": "code",
   "execution_count": null,
   "id": "c34bc03e-8b4c-4bcb-94f1-5d6f27f8c84f",
   "metadata": {},
   "outputs": [],
   "source": []
  }
 ],
 "metadata": {
  "kernelspec": {
   "display_name": "Python 3 (ipykernel)",
   "language": "python",
   "name": "python3"
  },
  "language_info": {
   "codemirror_mode": {
    "name": "ipython",
    "version": 3
   },
   "file_extension": ".py",
   "mimetype": "text/x-python",
   "name": "python",
   "nbconvert_exporter": "python",
   "pygments_lexer": "ipython3",
   "version": "3.12.7"
  }
 },
 "nbformat": 4,
 "nbformat_minor": 5
}
